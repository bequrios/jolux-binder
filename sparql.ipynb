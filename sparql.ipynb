{
 "cells": [
  {
   "cell_type": "code",
   "execution_count": null,
   "metadata": {},
   "outputs": [],
   "source": [
    "import requests\n",
    "\n",
    "def SPARQL_query(query):\n",
    "    url = 'https://fedlex.data.admin.ch/sparqlendpoint'\n",
    "    headers = {'Accept': 'application/json'}\n",
    "    data = requests.get(url, headers=headers, params={'query': query})\n",
    "    return data.json()"
   ]
  },
  {
   "cell_type": "code",
   "execution_count": null,
   "metadata": {},
   "outputs": [],
   "source": [
    "query = \"\"\"\n",
    "\n",
    "SELECT * WHERE {\n",
    "\n",
    "    ?s ?p ?o .\n",
    "\n",
    "} LIMIT 10\n",
    "\n",
    "\"\"\"\n",
    "\n",
    "display(SPARQL_query(query))"
   ]
  }
 ],
 "metadata": {
  "kernelspec": {
   "display_name": "LD",
   "language": "python",
   "name": "python3"
  },
  "language_info": {
   "codemirror_mode": {
    "name": "ipython",
    "version": 3
   },
   "file_extension": ".py",
   "mimetype": "text/x-python",
   "name": "python",
   "nbconvert_exporter": "python",
   "pygments_lexer": "ipython3",
   "version": "3.9.19"
  }
 },
 "nbformat": 4,
 "nbformat_minor": 2
}
